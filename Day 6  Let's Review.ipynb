{
 "cells": [
  {
   "cell_type": "markdown",
   "id": "45342e7c",
   "metadata": {},
   "source": [
    "# Given a string, , of length  that is indexed from  to , print its even-indexed and odd-indexed characters as  space-separated strings on a single line (see the Sample below for more detail).\n",
    "\n",
    "    Note:  is considered to be an even index.\n",
    "\n",
    "    Example\n",
    "\n",
    "\n",
    "    Print abc def"
   ]
  },
  {
   "cell_type": "code",
   "execution_count": 7,
   "id": "95e1f925",
   "metadata": {},
   "outputs": [
    {
     "name": "stdout",
     "output_type": "stream",
     "text": [
      "2\n",
      "hacker\n",
      "rank\n",
      "hce akr\n",
      "rn ak\n"
     ]
    }
   ],
   "source": [
    "n = int(input())\n",
    "l = []\n",
    "for i in range(n):\n",
    "    word = input()\n",
    "    l.append(word)\n",
    "for j in l:\n",
    "    m = \"\"\n",
    "    n = \"\"\n",
    "    for k in range (len(j)):\n",
    "        if k%2==0:\n",
    "            m +=j[k]\n",
    "        else:\n",
    "            n += j[k]\n",
    "    print(m,n)\n",
    "        "
   ]
  },
  {
   "cell_type": "code",
   "execution_count": null,
   "id": "f6f8f2db",
   "metadata": {},
   "outputs": [],
   "source": []
  }
 ],
 "metadata": {
  "kernelspec": {
   "display_name": "Python 3",
   "language": "python",
   "name": "python3"
  },
  "language_info": {
   "codemirror_mode": {
    "name": "ipython",
    "version": 3
   },
   "file_extension": ".py",
   "mimetype": "text/x-python",
   "name": "python",
   "nbconvert_exporter": "python",
   "pygments_lexer": "ipython3",
   "version": "3.6.13"
  }
 },
 "nbformat": 4,
 "nbformat_minor": 5
}
