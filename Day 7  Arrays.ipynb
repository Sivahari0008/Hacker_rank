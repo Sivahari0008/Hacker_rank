{
 "cells": [
  {
   "cell_type": "markdown",
   "id": "b54a7fa9",
   "metadata": {},
   "source": [
    "# Task\n",
    "    Given an array,A , of N  integers, print A 's elements in reverse order as a single line of space-separated numbers.\n",
    "    Example\n",
    "\n",
    "\n",
    "    Print 4 3 2 1. Each integer is separated by one space.\n",
    "\n",
    "    Input Format\n",
    "\n",
    "    The first line contains an integer,  (the size of our array).\n",
    "    The second line contains  space-separated integers that describe array 's elements."
   ]
  },
  {
   "cell_type": "code",
   "execution_count": 9,
   "id": "f6a3ffb5",
   "metadata": {},
   "outputs": [
    {
     "name": "stdout",
     "output_type": "stream",
     "text": [
      "4\n",
      "1 2 3 4\n",
      "[1, 2, 3, 4]\n",
      "4 3 2 1 \n"
     ]
    }
   ],
   "source": [
    "#!/bin/python3\n",
    "\n",
    "import math\n",
    "import os\n",
    "import random\n",
    "import re\n",
    "import sys\n",
    "\n",
    "\n",
    "\n",
    "if __name__ == '__main__':\n",
    "    n = int(input().strip())\n",
    "\n",
    "    arr = list(map(int, input().rstrip().split()))\n",
    "print(arr)\n",
    "brr = \"\"    \n",
    "for i in arr[::-1]:\n",
    "    brr+= str(i)\n",
    "    brr+=\" \"\n",
    "print(brr)\n",
    "    \n"
   ]
  },
  {
   "cell_type": "code",
   "execution_count": null,
   "id": "fcf0b369",
   "metadata": {},
   "outputs": [],
   "source": []
  }
 ],
 "metadata": {
  "kernelspec": {
   "display_name": "Python 3",
   "language": "python",
   "name": "python3"
  },
  "language_info": {
   "codemirror_mode": {
    "name": "ipython",
    "version": 3
   },
   "file_extension": ".py",
   "mimetype": "text/x-python",
   "name": "python",
   "nbconvert_exporter": "python",
   "pygments_lexer": "ipython3",
   "version": "3.6.13"
  }
 },
 "nbformat": 4,
 "nbformat_minor": 5
}
