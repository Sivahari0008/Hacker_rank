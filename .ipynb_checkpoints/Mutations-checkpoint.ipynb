{
 "cells": [
  {
   "cell_type": "markdown",
   "id": "788994a4",
   "metadata": {},
   "source": [
    "# Task\n",
    "    Read a given string, change the character at a given index and then print the modified string.\n",
    "    Function Description\n",
    "\n",
    "    Complete the mutate_string function in the editor below.\n",
    "\n",
    "    mutate_string has the following parameters:\n",
    "\n",
    "    string string: the string to change\n",
    "    int position: the index to insert the character at\n",
    "    string character: the character to insert\n",
    "    Returns\n",
    "\n",
    "    string: the altered string"
   ]
  },
  {
   "cell_type": "code",
   "execution_count": 2,
   "id": "d9f9cf1d",
   "metadata": {},
   "outputs": [
    {
     "name": "stdout",
     "output_type": "stream",
     "text": [
      "abracadabra\n",
      "5 k\n",
      "abrackdabra\n"
     ]
    }
   ],
   "source": [
    "def mutate_string(string, position, character):\n",
    "    a = list(string)\n",
    "    a[position] = c\n",
    "    b = ''.join(a)\n",
    "    return b\n",
    "\n",
    "if __name__ == '__main__':\n",
    "    s = input()\n",
    "    i, c = input().split()\n",
    "    s_new = mutate_string(s, int(i), c)\n",
    "    print(s_new)"
   ]
  },
  {
   "cell_type": "code",
   "execution_count": null,
   "id": "30ac559d",
   "metadata": {},
   "outputs": [],
   "source": []
  }
 ],
 "metadata": {
  "kernelspec": {
   "display_name": "Python 3",
   "language": "python",
   "name": "python3"
  },
  "language_info": {
   "codemirror_mode": {
    "name": "ipython",
    "version": 3
   },
   "file_extension": ".py",
   "mimetype": "text/x-python",
   "name": "python",
   "nbconvert_exporter": "python",
   "pygments_lexer": "ipython3",
   "version": "3.6.13"
  }
 },
 "nbformat": 4,
 "nbformat_minor": 5
}
