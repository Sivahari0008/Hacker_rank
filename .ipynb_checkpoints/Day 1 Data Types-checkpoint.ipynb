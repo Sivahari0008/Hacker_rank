{
 "cells": [
  {
   "cell_type": "markdown",
   "id": "29102b39",
   "metadata": {},
   "source": [
    "# Task\n",
    "    Complete the code in the editor below. The variables , , and  are already declared and initialized for you. You must:\n",
    "\n",
    "    Declare  variables: one of type int, one of type double, and one of type String.\n",
    "    Read  lines of input from stdin (according to the sequence given in the Input Format section below) and initialize your    variables.\n",
    "    Use the  operator to perform the following operations:\n",
    "    Print the sum of  plus your int variable on a new line.\n",
    "    Print the sum of  plus your double variable to a scale of one decimal place on a new line.\n",
    "    Concatenate  with the string you read as input and print the result on a new line."
   ]
  },
  {
   "cell_type": "markdown",
   "id": "1fc927c3",
   "metadata": {},
   "source": [
    "# Default"
   ]
  },
  {
   "cell_type": "code",
   "execution_count": 1,
   "id": "79c865cf",
   "metadata": {},
   "outputs": [],
   "source": [
    "i = 4\n",
    "d = 4.0\n",
    "s = 'HackerRank '\n",
    "# Declare second integer, double, and String variables.\n",
    "\n",
    "# Read and save an integer, double, and String to your variables.\n",
    "\n",
    "# Print the sum of both integer variables on a new line.\n",
    "\n",
    "# Print the sum of the double variables on a new line.\n",
    "\n",
    "# Concatenate and print the String variables on a new line\n",
    "# The 's' variable above should be printed first.\n"
   ]
  },
  {
   "cell_type": "markdown",
   "id": "16a2b583",
   "metadata": {},
   "source": [
    "# Solution"
   ]
  },
  {
   "cell_type": "code",
   "execution_count": 2,
   "id": "304d70b6",
   "metadata": {},
   "outputs": [
    {
     "name": "stdout",
     "output_type": "stream",
     "text": [
      "4\n",
      "3.5\n",
      "hi\n",
      "8\n",
      "7.5\n",
      "HackerRank hi\n"
     ]
    }
   ],
   "source": [
    "i = 4\n",
    "d = 4.0\n",
    "s = 'HackerRank '\n",
    "\n",
    "a = int(input())\n",
    "b = float(input())\n",
    "c = input()\n",
    "\n",
    "print(a+i)\n",
    "print(d+b)\n",
    "print(s+c)"
   ]
  },
  {
   "cell_type": "code",
   "execution_count": null,
   "id": "4c2d581d",
   "metadata": {},
   "outputs": [],
   "source": []
  }
 ],
 "metadata": {
  "kernelspec": {
   "display_name": "Python 3",
   "language": "python",
   "name": "python3"
  },
  "language_info": {
   "codemirror_mode": {
    "name": "ipython",
    "version": 3
   },
   "file_extension": ".py",
   "mimetype": "text/x-python",
   "name": "python",
   "nbconvert_exporter": "python",
   "pygments_lexer": "ipython3",
   "version": "3.6.13"
  }
 },
 "nbformat": 4,
 "nbformat_minor": 5
}
