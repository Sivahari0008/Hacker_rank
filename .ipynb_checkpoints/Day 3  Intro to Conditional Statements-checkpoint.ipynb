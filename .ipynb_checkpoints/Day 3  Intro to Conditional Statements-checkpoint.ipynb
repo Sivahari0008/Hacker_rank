{
 "cells": [
  {
   "cell_type": "markdown",
   "id": "80677b85",
   "metadata": {},
   "source": [
    "# Task\n",
    "    Given an integer, , perform the following conditional actions:\n",
    "\n",
    "    If  is odd, print Weird\n",
    "    If  is even and in the inclusive range of  to , print Not Weird\n",
    "    If  is even and in the inclusive range of  to , print Weird\n",
    "    If  is even and greater than , print Not Weird\n",
    "    Complete the stub code provided in your editor to print whether or not  is weird."
   ]
  },
  {
   "cell_type": "code",
   "execution_count": 1,
   "id": "1b55815f",
   "metadata": {},
   "outputs": [
    {
     "name": "stdout",
     "output_type": "stream",
     "text": [
      "20\n",
      "Weird\n"
     ]
    }
   ],
   "source": [
    "#!/bin/python3\n",
    "\n",
    "import math\n",
    "import os\n",
    "import random\n",
    "import re\n",
    "import sys\n",
    "\n",
    "\n",
    "\n",
    "if __name__ == '__main__':\n",
    "    n = int(input().strip())\n",
    "    \n",
    "if n%2 == 1:\n",
    "    print(\"Weird\")\n",
    "elif n%2 == 0 and 2<n<6:\n",
    "        print(\"Not Weird\")\n",
    "elif n%2 == 0 and 6<n<21:\n",
    "        print(\"Weird\")\n",
    "else:\n",
    "    print(\"Not Weird\")\n",
    "        "
   ]
  },
  {
   "cell_type": "code",
   "execution_count": null,
   "id": "8b2a99a1",
   "metadata": {},
   "outputs": [],
   "source": []
  }
 ],
 "metadata": {
  "kernelspec": {
   "display_name": "Python 3",
   "language": "python",
   "name": "python3"
  },
  "language_info": {
   "codemirror_mode": {
    "name": "ipython",
    "version": 3
   },
   "file_extension": ".py",
   "mimetype": "text/x-python",
   "name": "python",
   "nbconvert_exporter": "python",
   "pygments_lexer": "ipython3",
   "version": "3.6.13"
  }
 },
 "nbformat": 4,
 "nbformat_minor": 5
}
