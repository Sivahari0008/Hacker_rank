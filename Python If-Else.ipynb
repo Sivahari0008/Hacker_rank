{
 "cells": [
  {
   "cell_type": "markdown",
   "id": "8d383d9c",
   "metadata": {},
   "source": [
    "# Given an integer,n, perform the following conditional actions:\n",
    "\n",
    "    If  is odd, print Weird\n",
    "    If  is even and in the inclusive range of  to , print Not Weird\n",
    "    If  is even and in the inclusive range of  to , print Weird\n",
    "    If  is even and greater than , print Not Weird"
   ]
  },
  {
   "cell_type": "markdown",
   "id": "f7477587",
   "metadata": {},
   "source": [
    "# Default"
   ]
  },
  {
   "cell_type": "code",
   "execution_count": 1,
   "id": "1050c0b4",
   "metadata": {},
   "outputs": [
    {
     "name": "stdout",
     "output_type": "stream",
     "text": [
      "5\n"
     ]
    }
   ],
   "source": [
    "#!/bin/python3\n",
    "\n",
    "import math\n",
    "import os\n",
    "import random\n",
    "import re\n",
    "import sys\n",
    "\n",
    "\n",
    "\n",
    "if __name__ == '__main__':\n",
    "    n = int(input().strip())"
   ]
  },
  {
   "cell_type": "markdown",
   "id": "88b41fa8",
   "metadata": {},
   "source": [
    "# Solution"
   ]
  },
  {
   "cell_type": "code",
   "execution_count": 4,
   "id": "a4f4ab12",
   "metadata": {},
   "outputs": [
    {
     "name": "stdout",
     "output_type": "stream",
     "text": [
      "8\n",
      "Weird\n"
     ]
    }
   ],
   "source": [
    "#!/bin/python3\n",
    "\n",
    "import math\n",
    "import os\n",
    "import random\n",
    "import re\n",
    "import sys\n",
    "\n",
    "\n",
    "\n",
    "if __name__ == '__main__':\n",
    "    n = int(input().strip())\n",
    "    \n",
    "if n%2 == 1:\n",
    "    print(\"Weird\")\n",
    "elif n%2 == 0 and 2<n<6:\n",
    "        print(\"Not Weird\")\n",
    "elif n%2 == 0 and 6<n<21:\n",
    "        print(\"Weird\")\n",
    "else:\n",
    "    print(\"Weird\")\n",
    "        "
   ]
  },
  {
   "cell_type": "code",
   "execution_count": null,
   "id": "c1ad9fcb",
   "metadata": {},
   "outputs": [],
   "source": []
  }
 ],
 "metadata": {
  "kernelspec": {
   "display_name": "Python 3",
   "language": "python",
   "name": "python3"
  },
  "language_info": {
   "codemirror_mode": {
    "name": "ipython",
    "version": 3
   },
   "file_extension": ".py",
   "mimetype": "text/x-python",
   "name": "python",
   "nbconvert_exporter": "python",
   "pygments_lexer": "ipython3",
   "version": "3.6.13"
  }
 },
 "nbformat": 4,
 "nbformat_minor": 5
}
