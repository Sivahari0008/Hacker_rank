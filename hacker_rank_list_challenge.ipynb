{
 "cells": [
  {
   "cell_type": "code",
   "execution_count": null,
   "id": "0da6d51e",
   "metadata": {},
   "outputs": [],
   "source": [
    "'''enter list of name and find the second largest score\n",
    "from the list of persons'''\n",
    "\n",
    "i = int(input(\"total no of students : \"))\n",
    "list1 = []\n",
    "dict1 = {}\n",
    "for a in range(i):\n",
    "    name = input(\"person name:\")\n",
    "    marks = input(\"persons  mark:\")\n",
    "    list1 += [name,marks]\n",
    "print(list1)\n",
    "for b in range(0,len(list1),2):\n",
    "    dict1[list1[b]] = float(list1[b+1])\n",
    "print(dict1)\n",
    "result = []\n",
    "match = sorted(set(dict1.values()))[-2]\n",
    "print(match)\n",
    "for pupil in dict1.keys():\n",
    "    if dict1[pupil] == match :\n",
    "        result.append(pupil)\n",
    "for c in sorted(result):\n",
    "    print(c)\n",
    "    "
   ]
  },
  {
   "cell_type": "code",
   "execution_count": null,
   "id": "5cc9d37d",
   "metadata": {},
   "outputs": [],
   "source": [
    "my_list = [-15, -26, 15, 1, 23, -64, 23, 76]\n",
    "new_list = []\n",
    "while my_list:\n",
    "    min = my_list[0]  \n",
    "    for x in my_list: \n",
    "        if x < min:\n",
    "            min = x\n",
    "    new_list.append(min)\n",
    "    my_list.remove(min)    \n",
    "print(new_list)"
   ]
  },
  {
   "cell_type": "code",
   "execution_count": null,
   "id": "ffa9869e",
   "metadata": {
    "scrolled": true
   },
   "outputs": [],
   "source": [
    "\"\"\"\n",
    "Given the names and grades for each student in a class of  students, store them in a nested list and print the name(s) of any student(s) having the second lowest grade.\n",
    "\n",
    "Note: If there are multiple students with the second lowest grade, order their names alphabetically and print each name on a new line.\n",
    "\n",
    "Example\n",
    "\n",
    "The ordered list of scores is , so the second lowest score is . There are two students with that score: . Ordered alphabetically, the names are printed as:\"\"\"\n",
    "\n",
    "\n",
    "\n",
    "N = int(input())\n",
    "\n",
    "students = []\n",
    "for i in range(2*N):\n",
    "    students.append(input())\n",
    "grades = {}\n",
    "for j in range(0, len(students), 2):\n",
    "    grades[students[j]] = float(students[j + 1])\n",
    "print(grades)\n",
    "result = []\n",
    "num_to_match = sorted(set(grades.values()))[1]\n",
    "for pupil in grades.keys():\n",
    "    if grades[pupil] == num_to_match:\n",
    "        result.append(pupil)\n",
    "for k in sorted(result):\n",
    "    print (\"k\",k)"
   ]
  },
  {
   "cell_type": "code",
   "execution_count": null,
   "id": "a3a4d973",
   "metadata": {},
   "outputs": [],
   "source": [
    "\"\"\"Task\n",
    "Given an integer, , and  space-separated integers as input, create a tuple, , of those  integers.\n",
    "Then compute and print the result of .\n",
    "\n",
    "Note: hash() is one of the functions in the __builtins__ module, so it need not be imported.\"\"\"\n",
    "\n",
    "if __name__ == '__main__':\n",
    "    n = int(input())\n",
    "    b = list()\n",
    "    for i in range(n):\n",
    "        a = int(input())\n",
    "        b.append(a)\n",
    "    c= tuple(b)\n",
    "    print(hash(c))"
   ]
  },
  {
   "cell_type": "code",
   "execution_count": null,
   "id": "35375950",
   "metadata": {},
   "outputs": [],
   "source": [
    "if __name__ == '__main__':\n",
    "    n = int(input())\n",
    "    integer_list = tuple(map(int, input().split()))\n",
    "    print(hash(integer_list))\n"
   ]
  },
  {
   "cell_type": "markdown",
   "id": "bb7613cb",
   "metadata": {},
   "source": [
    "### "
   ]
  },
  {
   "cell_type": "code",
   "execution_count": null,
   "id": "825b69ea",
   "metadata": {},
   "outputs": [],
   "source": [
    "n = int(input(\"total students:\"))\n",
    "list1= []\n",
    "for i in range(n):\n",
    "    name  = input(\"name:\")\n",
    "    marks = input(\"marks:\")\n",
    "    list1.append(name)\n",
    "    list1.append(marks)\n",
    "print(list1)\n",
    "dict1 = {}\n",
    "for j in range(0,len(list1),2):\n",
    "    dict1[list1[j]] = float(list1[j+1])\n",
    "match = sorted(set(dict1.values()))[1]\n",
    "print(match)\n",
    "list2 = []\n",
    "for k in dict1.keys():\n",
    "    if dict1[k] == match:\n",
    "        list2.append(k)\n",
    "print(list2)\n",
    "        \n",
    "        \n",
    "    "
   ]
  },
  {
   "cell_type": "code",
   "execution_count": null,
   "id": "0797ed09",
   "metadata": {},
   "outputs": [],
   "source": [
    "mylist = []\n",
    "newlist = []\n",
    "for i in range(int(input())):\n",
    "    i = int(input())\n",
    "    mylist.append(i)\n",
    "while mylist:\n",
    "    minimum = mylist[0]\n",
    "    for j in mylist:\n",
    "        if j < minimum:\n",
    "            minimum = j\n",
    "    newlist.append(minimum)\n",
    "    mylist.remove(minimum)\n",
    "print(newlist)\n",
    "    "
   ]
  },
  {
   "cell_type": "code",
   "execution_count": null,
   "id": "1ae710fe",
   "metadata": {},
   "outputs": [],
   "source": [
    "a = input()\n",
    "b = a.split()\n",
    "d = [1,2]\n",
    "c = map(b,d)\n",
    "print(b)\n",
    "print(c)"
   ]
  },
  {
   "cell_type": "code",
   "execution_count": null,
   "id": "12bf8986",
   "metadata": {},
   "outputs": [],
   "source": [
    "a = int(input())\n",
    "fact = 1\n",
    "for i in range(1,a+1):\n",
    "     fact = fact*i\n",
    "print(fact)"
   ]
  },
  {
   "cell_type": "code",
   "execution_count": 1,
   "id": "3ed35fbf",
   "metadata": {},
   "outputs": [
    {
     "name": "stdout",
     "output_type": "stream",
     "text": [
      "5\n",
      "0\n",
      "1\n",
      "1\n",
      "2\n",
      "3\n"
     ]
    }
   ],
   "source": [
    "a = int(input())\n",
    "count = 0\n",
    "m,n = 0,1\n",
    "while count<a:\n",
    "    print(m)\n",
    "    b = m+n\n",
    "    m = n\n",
    "    n = b\n",
    "    count+=1"
   ]
  },
  {
   "cell_type": "code",
   "execution_count": null,
   "id": "8e30e027",
   "metadata": {},
   "outputs": [],
   "source": [
    "num = int(input(\"Enter a number: \"))  \n",
    "  \n",
    "if num > 1:\n",
    "    for i in range(2,num):\n",
    "        print(i)\n",
    "        if (num % i) == 0:\n",
    "            print(num,\"is not a a prime number\")\n",
    "            break  \n",
    "    else:  \n",
    "       print(num,\"is a prime number\")  \n",
    "         \n",
    "else:  \n",
    "   print(num,\"is not a prime number\")  "
   ]
  },
  {
   "cell_type": "code",
   "execution_count": null,
   "id": "bb579fa2",
   "metadata": {},
   "outputs": [],
   "source": [
    "a = int(input())\n",
    "for i in range(2,a):\n",
    "    if (a%i == 0):\n",
    "        print(\"not a prime\")\n",
    "        break\n",
    "else:\n",
    "        print(\"prime\")"
   ]
  },
  {
   "cell_type": "code",
   "execution_count": 2,
   "id": "f599adfa",
   "metadata": {},
   "outputs": [
    {
     "name": "stdout",
     "output_type": "stream",
     "text": [
      "2 3 5 7 11 13 17 19 23 29 31 37 41 43 47 53 59 61 67 71 73 79 83 89 97 "
     ]
    }
   ],
   "source": [
    "for i in range(1,101):\n",
    "    count = 0\n",
    "    for j in range(2,i//2+1):\n",
    "        if i%j == 0 :\n",
    "            count +=1\n",
    "            break\n",
    "    if count == 0 and i!=1:\n",
    "        print(i,end = ' ')"
   ]
  },
  {
   "cell_type": "code",
   "execution_count": 5,
   "id": "1a5b6e19",
   "metadata": {},
   "outputs": [
    {
     "name": "stdout",
     "output_type": "stream",
     "text": [
      "1\n"
     ]
    }
   ],
   "source": [
    "def b(arr,low,high,x):\n",
    "    if high>=0:\n",
    "        mid = (high+low)//2\n",
    "        if arr[mid] == x:\n",
    "            return mid\n",
    "        elif arr[mid]>x:\n",
    "            return b(arr,low,mid-1,x)\n",
    "        else:\n",
    "            return b(arr,mid+1,high,x)\n",
    "        \n",
    "    else:\n",
    "        return -1\n",
    "arr = [1,4,7,3,6]\n",
    "x = 4\n",
    "result = b(arr,0,len(arr)-1,x)\n",
    "if result!=-1:\n",
    "    print(result)\n",
    "else:\n",
    "    print(\"hi\")"
   ]
  },
  {
   "cell_type": "code",
   "execution_count": 6,
   "id": "69e2dfc9",
   "metadata": {},
   "outputs": [
    {
     "name": "stdout",
     "output_type": "stream",
     "text": [
      "Element is present at index 3\n"
     ]
    }
   ],
   "source": [
    "def binary_search(arr, low, high, x):\n",
    "    if high >= low:\n",
    "        mid = (high + low) // 2\n",
    "        if arr[mid] == x:\n",
    "            return mid\n",
    "        elif arr[mid] > x:\n",
    "            return binary_search(arr, low, mid - 1, x)\n",
    "        else:\n",
    "            return binary_search(arr, mid + 1, high, x)\n",
    " \n",
    "    else:\n",
    "        return -1\n",
    "arr = [ 2, 3, 4, 10, 40 ]\n",
    "x = 10\n",
    " \n",
    "# Function call\n",
    "result = binary_search(arr, 0, len(arr)-1, x)\n",
    " \n",
    "if result != -1:\n",
    "    print(\"Element is present at index\", result)\n",
    "else:\n",
    "    print(\"Element is not present in array\")"
   ]
  },
  {
   "cell_type": "code",
   "execution_count": 4,
   "id": "4efb2890",
   "metadata": {},
   "outputs": [
    {
     "name": "stdout",
     "output_type": "stream",
     "text": [
      "5\n",
      "1\n",
      "22\n",
      "333\n",
      "4444\n",
      "55555\n"
     ]
    }
   ],
   "source": [
    "a = int(input())\n",
    "for i in range(1,a+1):\n",
    "    for j in range(1,i+1):\n",
    "        print(i,end =\"\")\n",
    "    print()"
   ]
  },
  {
   "cell_type": "code",
   "execution_count": 6,
   "id": "a403e79a",
   "metadata": {},
   "outputs": [
    {
     "name": "stdout",
     "output_type": "stream",
     "text": [
      "mike\n"
     ]
    }
   ],
   "source": [
    "class father():\n",
    "    f_name = \"mike\"\n",
    "    f_age = 34\n",
    "class son(father):\n",
    "    s_name = \"john\"\n",
    "    s_age = 15\n",
    "obj = son()\n",
    "print(obj.f_name)"
   ]
  },
  {
   "cell_type": "code",
   "execution_count": 7,
   "id": "ceab6fd8",
   "metadata": {},
   "outputs": [
    {
     "name": "stdout",
     "output_type": "stream",
     "text": [
      "mike sara\n"
     ]
    }
   ],
   "source": [
    "class father():\n",
    "    f_name = \"mike\"\n",
    "    f_age = 34\n",
    "class mother():\n",
    "    m_name = \"sara\"\n",
    "    m_age = 32\n",
    "class son(father,mother):\n",
    "    s_name = \"john\"\n",
    "    s_age = 15\n",
    "obj = son()\n",
    "print(obj.f_name,obj.m_name)"
   ]
  },
  {
   "cell_type": "code",
   "execution_count": 11,
   "id": "5db79927",
   "metadata": {},
   "outputs": [
    {
     "name": "stdout",
     "output_type": "stream",
     "text": [
      "5\n",
      "9\n"
     ]
    }
   ],
   "source": [
    "def add(x = 0, y = 0, z = 0 ): \n",
    "    return x + y+z\n",
    "  \n",
    "# Driver code \n",
    "print(add(2, 3))\n",
    "print(add(2, 3, 4))"
   ]
  },
  {
   "cell_type": "code",
   "execution_count": 14,
   "id": "2f107b20",
   "metadata": {},
   "outputs": [
    {
     "name": "stdout",
     "output_type": "stream",
     "text": [
      "bio\n"
     ]
    }
   ],
   "source": [
    "class name():\n",
    "    def __init__(self,name):\n",
    "        self.name = name\n",
    "    def hi(self):\n",
    "        print(self.name)\n",
    "p = name(\"bio\")\n",
    "p.hi()"
   ]
  },
  {
   "cell_type": "code",
   "execution_count": 15,
   "id": "3084ecf3",
   "metadata": {},
   "outputs": [
    {
     "name": "stdout",
     "output_type": "stream",
     "text": [
      "cse\n",
      "cse\n",
      "101\n",
      "cse\n"
     ]
    }
   ],
   "source": [
    "class CSStudent:\n",
    " \n",
    "    # Class Variable\n",
    "    stream = 'cse'            \n",
    " \n",
    "    # The init method or constructor\n",
    "    def __init__(self, roll):\n",
    "   \n",
    "        # Instance Variable   \n",
    "        self.roll = roll      \n",
    "  \n",
    "# Objects of CSStudent class\n",
    "a = CSStudent(101)\n",
    "b = CSStudent(102)\n",
    "  \n",
    "print(a.stream)  # prints \"cse\"\n",
    "print(b.stream)  # prints \"cse\"\n",
    "print(a.roll)    # prints 101\n",
    "  \n",
    "# Class variables can be accessed using class\n",
    "# name also\n",
    "print(CSStudent.stream) # prints \"cse\"   "
   ]
  },
  {
   "cell_type": "code",
   "execution_count": 46,
   "id": "33cbd835",
   "metadata": {},
   "outputs": [
    {
     "data": {
      "text/plain": [
       "('audi', 100)"
      ]
     },
     "execution_count": 46,
     "metadata": {},
     "output_type": "execute_result"
    }
   ],
   "source": [
    "class cars():\n",
    "    def __init__(self,model,price):\n",
    "        self.price = price\n",
    "        self.model  = model\n",
    "    def display(s):\n",
    "        return(s.model,s.price)\n",
    "obj  = cars(\"audi\",100)\n",
    "obj.display()"
   ]
  },
  {
   "cell_type": "code",
   "execution_count": 47,
   "id": "7e39cf78",
   "metadata": {},
   "outputs": [
    {
     "name": "stdout",
     "output_type": "stream",
     "text": [
      "Hello my name is John\n"
     ]
    }
   ],
   "source": [
    "class Person:\n",
    "    def __init__(mysillyobject, name, age):\n",
    "        mysillyobject.name = name\n",
    "        mysillyobject.age = age\n",
    "\n",
    "    def myfunc(abc):\n",
    "        print(\"Hello my name is \" + abc.name)\n",
    "\n",
    "p1 = Person(\"John\", 36)\n",
    "p1.myfunc()"
   ]
  },
  {
   "cell_type": "code",
   "execution_count": null,
   "id": "97aff77a",
   "metadata": {},
   "outputs": [],
   "source": []
  },
  {
   "cell_type": "code",
   "execution_count": null,
   "id": "9df3fc5e",
   "metadata": {},
   "outputs": [],
   "source": []
  }
 ],
 "metadata": {
  "kernelspec": {
   "display_name": "Python 3",
   "language": "python",
   "name": "python3"
  },
  "language_info": {
   "codemirror_mode": {
    "name": "ipython",
    "version": 3
   },
   "file_extension": ".py",
   "mimetype": "text/x-python",
   "name": "python",
   "nbconvert_exporter": "python",
   "pygments_lexer": "ipython3",
   "version": "3.6.13"
  }
 },
 "nbformat": 4,
 "nbformat_minor": 5
}
