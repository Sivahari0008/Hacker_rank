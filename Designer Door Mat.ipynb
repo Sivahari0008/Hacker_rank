{
 "cells": [
  {
   "cell_type": "markdown",
   "id": "a16562f7",
   "metadata": {},
   "source": [
    "# Mr. Vincent works in a door mat manufacturing company. One day, he designed a new door mat with the following specifications:\n",
    "\n",
    "    Mat size must be X. (n is an odd natural number,and m is 3 times n .)\n",
    "    The design should have 'WELCOME' written in the center.\n",
    "    The design pattern should only use |, . and - characters."
   ]
  },
  {
   "cell_type": "markdown",
   "id": "0c2e42b5",
   "metadata": {},
   "source": [
    "# Default and Solution"
   ]
  },
  {
   "cell_type": "code",
   "execution_count": 18,
   "id": "fa788f91",
   "metadata": {},
   "outputs": [
    {
     "name": "stdout",
     "output_type": "stream",
     "text": [
      "7\n",
      "---------------------\n",
      "---------------------\n",
      "---------------------\n",
      "---------------------\n",
      "---------------------\n",
      "---------------------\n",
      "---------------------\n"
     ]
    }
   ],
   "source": [
    "n = int(input())\n",
    "m = 3*n\n",
    "\n",
    "for i in range(n):\n",
    "    for j in range(m):\n",
    "\n",
    "        if i == (n/2)+1:\n",
    "            print(\"welcome\")\n",
    "        else:\n",
    "            print(\"-\",end = \"\")\n",
    "    print()"
   ]
  },
  {
   "cell_type": "code",
   "execution_count": 21,
   "id": "844bde78",
   "metadata": {},
   "outputs": [
    {
     "name": "stdout",
     "output_type": "stream",
     "text": [
      "7 21\n",
      "---------.|.---------\n",
      "------.|..|..|.------\n",
      "---.|..|..|..|..|.---\n",
      "-------WELCOME-------\n",
      "---.|..|..|..|..|.---\n",
      "------.|..|..|.------\n",
      "---------.|.---------\n"
     ]
    }
   ],
   "source": [
    "import math\n",
    "N, M = map(int, input().split()) \n",
    "for i in range(0,math.floor(N/2)): \n",
    "    s='.|.'*i\n",
    "    print (s.rjust(math.floor((M-2)/2),'-')+'.|.'+('.|.'*i).ljust(math.floor((M-2)/2),'-'))\n",
    "print ('WELCOME'.center(M,'-'))\n",
    "for i in reversed(range(0,math.floor(N/2))): \n",
    "    s='.|.'*i\n",
    "    print (s.rjust(math.floor((M-2)/2),'-')+'.|.'+('.|.'*i).ljust(math.floor((M-2)/2),'-'))"
   ]
  },
  {
   "cell_type": "code",
   "execution_count": null,
   "id": "6f0cc8d1",
   "metadata": {},
   "outputs": [],
   "source": []
  }
 ],
 "metadata": {
  "kernelspec": {
   "display_name": "Python 3",
   "language": "python",
   "name": "python3"
  },
  "language_info": {
   "codemirror_mode": {
    "name": "ipython",
    "version": 3
   },
   "file_extension": ".py",
   "mimetype": "text/x-python",
   "name": "python",
   "nbconvert_exporter": "python",
   "pygments_lexer": "ipython3",
   "version": "3.6.13"
  }
 },
 "nbformat": 4,
 "nbformat_minor": 5
}
