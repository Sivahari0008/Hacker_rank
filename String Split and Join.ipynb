{
 "cells": [
  {
   "cell_type": "markdown",
   "id": "44e6cb98",
   "metadata": {},
   "source": [
    "# Task\n",
    "    You are given a string. Split the string on a \" \" (space) delimiter and join using a - hyphen.\n",
    "\n",
    "    Function Description\n",
    "\n",
    "    Complete the split_and_join function in the editor below.\n",
    "\n",
    "    split_and_join has the following parameters:\n",
    "\n",
    "    string line: a string of space-separated words\n",
    "    Returns\n",
    "\n",
    "    string: the resulting string"
   ]
  },
  {
   "cell_type": "code",
   "execution_count": 3,
   "id": "683ccd1b",
   "metadata": {},
   "outputs": [
    {
     "name": "stdout",
     "output_type": "stream",
     "text": [
      "this is a string\n",
      "this-is-a-string\n"
     ]
    }
   ],
   "source": [
    "def split_and_join(line):\n",
    "    # write your code here\n",
    "    new = line.split(\" \")\n",
    "    s = \"\"\n",
    "    for i in new:\n",
    "        s+=i\n",
    "        if i== new[-1]:\n",
    "            break\n",
    "        else:\n",
    "            s+=\"-\"\n",
    "    return s\n",
    "\n",
    "if __name__ == '__main__':\n",
    "    line = input()\n",
    "    result = split_and_join(line)\n",
    "    print(result)"
   ]
  },
  {
   "cell_type": "code",
   "execution_count": null,
   "id": "005e8349",
   "metadata": {},
   "outputs": [],
   "source": []
  }
 ],
 "metadata": {
  "kernelspec": {
   "display_name": "Python 3",
   "language": "python",
   "name": "python3"
  },
  "language_info": {
   "codemirror_mode": {
    "name": "ipython",
    "version": 3
   },
   "file_extension": ".py",
   "mimetype": "text/x-python",
   "name": "python",
   "nbconvert_exporter": "python",
   "pygments_lexer": "ipython3",
   "version": "3.6.13"
  }
 },
 "nbformat": 4,
 "nbformat_minor": 5
}
